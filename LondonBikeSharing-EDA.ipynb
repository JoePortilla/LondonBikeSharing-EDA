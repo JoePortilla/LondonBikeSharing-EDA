{
 "cells": [
  {
   "cell_type": "code",
   "execution_count": null,
   "id": "0728636c",
   "metadata": {
    "papermill": {
     "duration": 0.002359,
     "end_time": "2023-04-07T04:15:09.011448",
     "exception": false,
     "start_time": "2023-04-07T04:15:09.009089",
     "status": "completed"
    },
    "tags": []
   },
   "outputs": [],
   "source": []
  }
 ],
 "metadata": {
  "kernelspec": {
   "display_name": "Python 3",
   "language": "python",
   "name": "python3"
  },
  "language_info": {
   "codemirror_mode": {
    "name": "ipython",
    "version": 3
   },
   "file_extension": ".py",
   "mimetype": "text/x-python",
   "name": "python",
   "nbconvert_exporter": "python",
   "pygments_lexer": "ipython3",
   "version": "3.7.12"
  },
  "papermill": {
   "default_parameters": {},
   "duration": 11.037482,
   "end_time": "2023-04-07T04:15:09.738250",
   "environment_variables": {},
   "exception": null,
   "input_path": "__notebook__.ipynb",
   "output_path": "__notebook__.ipynb",
   "parameters": {},
   "start_time": "2023-04-07T04:14:58.700768",
   "version": "2.4.0"
  }
 },
 "nbformat": 4,
 "nbformat_minor": 5
}
